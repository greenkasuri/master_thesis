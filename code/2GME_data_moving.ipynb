{
 "cells": [
  {
   "cell_type": "code",
   "execution_count": 1,
   "metadata": {},
   "outputs": [],
   "source": [
    "import os\n",
    "import shutil"
   ]
  },
  {
   "cell_type": "code",
   "execution_count": 2,
   "metadata": {},
   "outputs": [],
   "source": [
    "os.chdir('c:/Users/jerep/Downloads/some_data')"
   ]
  },
  {
   "cell_type": "code",
   "execution_count": 3,
   "metadata": {},
   "outputs": [],
   "source": [
    "# open folders and move to correct market folder\n",
    "raw = os.getcwd()\n",
    "\n",
    "for root, dirs, files in os.walk(\".\"):\n",
    "    for file in files:\n",
    "        filedir = os.path.join(root, file)\n",
    "        if \"MGP\" in file:\n",
    "            os.makedirs(\"c:/Users/jerep/Downloads/raw_data/day_ahead\", exist_ok=True)\n",
    "            shutil.move(filedir, \"c:/Users/jerep/Downloads/raw_data/day_ahead\")\n",
    "        elif \"MI1\" in file:\n",
    "            os.makedirs(\"c:/Users/jerep/Downloads/raw_data/intra_day1\", exist_ok=True)\n",
    "            shutil.move(filedir, \"c:/Users/jerep/Downloads/raw_data/intra_day1\")\n",
    "        elif \"MI2\" in file:\n",
    "            os.makedirs(\"c:/Users/jerep/Downloads/raw_data/intra_day2\", exist_ok=True)\n",
    "            shutil.move(filedir, \"c:/Users/jerep/Downloads/raw_data/intra_day2\")\n",
    "        elif \"MSD\" in file:\n",
    "            os.makedirs(\"c:/Users/jerep/Downloads/raw_data/ancillary\", exist_ok=True)\n",
    "            shutil.move(filedir, \"c:/Users/jerep/Downloads/raw_data/ancillary\")"
   ]
  }
 ],
 "metadata": {
  "kernelspec": {
   "display_name": "Python 3",
   "language": "python",
   "name": "python3"
  },
  "language_info": {
   "codemirror_mode": {
    "name": "ipython",
    "version": 3
   },
   "file_extension": ".py",
   "mimetype": "text/x-python",
   "name": "python",
   "nbconvert_exporter": "python",
   "pygments_lexer": "ipython3",
   "version": "3.12.0"
  }
 },
 "nbformat": 4,
 "nbformat_minor": 2
}
